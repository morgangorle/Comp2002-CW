{
 "cells": [
  {
   "cell_type": "code",
   "execution_count": 12,
   "id": "heated-despite",
   "metadata": {},
   "outputs": [
    {
     "name": "stdout",
     "output_type": "stream",
     "text": [
      "[[9.800e-01 5.145e+02 2.940e+02 ... 0.000e+00 1.555e+01 2.133e+01]\n",
      " [9.800e-01 5.145e+02 2.940e+02 ... 0.000e+00 1.555e+01 2.133e+01]\n",
      " [9.800e-01 5.145e+02 2.940e+02 ... 0.000e+00 1.555e+01 2.133e+01]\n",
      " ...\n",
      " [6.200e-01 8.085e+02 3.675e+02 ... 5.000e+00 1.644e+01 1.711e+01]\n",
      " [6.200e-01 8.085e+02 3.675e+02 ... 5.000e+00 1.648e+01 1.661e+01]\n",
      " [6.200e-01 8.085e+02 3.675e+02 ... 5.000e+00 1.664e+01 1.603e+01]]\n",
      "0.24964798232890598\n",
      "12.988895609540297\n"
     ]
    },
    {
     "name": "stderr",
     "output_type": "stream",
     "text": [
      "c:\\users\\morgan\\appdata\\local\\programs\\python\\python38\\lib\\site-packages\\sklearn\\neural_network\\_multilayer_perceptron.py:614: ConvergenceWarning: Stochastic Optimizer: Maximum iterations (200) reached and the optimization hasn't converged yet.\n",
      "  warnings.warn(\n"
     ]
    }
   ],
   "source": [
    "#Import required modules\n",
    "import pandas as pandas\n",
    "from sklearn.preprocessing import MinMaxScaler\n",
    "import numpy as np\n",
    "\n",
    "# LOAD ENB2012 for part 1, Modules.txt for Part 2\n",
    "#Part 1.1 Data Prep\n",
    "data = pandas.read_excel(\"ENB2012_data.xls\")\n",
    "#print(data)\n",
    "# Extract the inputs.\n",
    "inputs = data.values[:,:].astype(float)\n",
    "#Split X and Y Values\n",
    "xValues = np.zeros([768, 8])\n",
    "yValues = np.zeros([768, 2])\n",
    "print(inputs)\n",
    "for j in range(768):\n",
    "    for i in range(10):\n",
    "        if i < 8:\n",
    "            xValues[j,i] = inputs[j,i]\n",
    "        else:\n",
    "            yValues[j,i-8] = inputs[j,i]\n",
    "#Test values            \n",
    "#print(xValues[0,0])\n",
    "#print(yValues[0,0])\n",
    "    \n",
    "#Normalise the input values\n",
    "scaler = MinMaxScaler()\n",
    "scaled = scaler.fit_transform(xValues)\n",
    "#Split into Training and Test Data\n",
    "\n",
    "\n",
    "\n",
    "#Part 1.2 Regression\n",
    "#Import required modules\n",
    "from sklearn.metrics import mean_absolute_error\n",
    "from sklearn.neural_network import MLPRegressor\n",
    "from sklearn.ensemble import RandomForestRegressor\n",
    "from sklearn.svm import SVR\n",
    "\n",
    "#Each of these regressors must be used\n",
    "\n",
    "#Random Forest (sklearn.ensemble.RandomForestRegressor)\n",
    "regressor = RandomForestRegressor()\n",
    "regressor.fit(scaled, yValues)\n",
    "outputs = regressor.predict(scaled)\n",
    "\n",
    "\n",
    "#Neural Network (sklearn.neural_network.MLPRegressor)\n",
    "regressor2 = MLPRegressor()\n",
    "regressor2.fit(scaled, yValues)\n",
    "outputs2 = regressor2.predict(scaled)\n",
    "\n",
    "\n",
    "#Support Vector Machine (sklearn.svm.SVR) Use multiple\n",
    "#yValues1D = yValues.flatten()\n",
    "#regressor3 = SVR()\n",
    "#regressor3.fit(scaled, yValues)\n",
    "#outputs3 = regressor3.predict(scaled)\n",
    "\n",
    "\n",
    "\n",
    "\n",
    "\n",
    "\n",
    "\n",
    "\n",
    "\n",
    "#Part 1.3  Regression Assessment\n",
    "\n",
    "#ALL of the regressors need to assessed to determine their mean square error rate\n",
    "\n",
    "from sklearn.metrics import mean_squared_error\n",
    "\n",
    "print(mean_squared_error(yValues,outputs))\n",
    "\n",
    "print(mean_squared_error(yValues,outputs2))"
   ]
  },
  {
   "cell_type": "code",
   "execution_count": null,
   "id": "sorted-functionality",
   "metadata": {},
   "outputs": [],
   "source": []
  },
  {
   "cell_type": "code",
   "execution_count": null,
   "id": "advised-proposal",
   "metadata": {},
   "outputs": [],
   "source": []
  }
 ],
 "metadata": {
  "kernelspec": {
   "display_name": "Python 3",
   "language": "python",
   "name": "python3"
  },
  "language_info": {
   "codemirror_mode": {
    "name": "ipython",
    "version": 3
   },
   "file_extension": ".py",
   "mimetype": "text/x-python",
   "name": "python",
   "nbconvert_exporter": "python",
   "pygments_lexer": "ipython3",
   "version": "3.8.7"
  }
 },
 "nbformat": 4,
 "nbformat_minor": 5
}
